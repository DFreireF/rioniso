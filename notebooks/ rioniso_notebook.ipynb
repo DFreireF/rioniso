{
 "cells": [
  {
   "cell_type": "code",
   "execution_count": 5,
   "metadata": {},
   "outputs": [
    {
     "name": "stdout",
     "output_type": "stream",
     "text": [
      "The autoreload extension is already loaded. To reload it, use:\n",
      "  %reload_ext autoreload\n"
     ]
    }
   ],
   "source": [
    "%load_ext autoreload\n",
    "%autoreload 2"
   ]
  },
  {
   "cell_type": "code",
   "execution_count": 70,
   "metadata": {},
   "outputs": [],
   "source": [
    "%matplotlib inline"
   ]
  },
  {
   "cell_type": "code",
   "execution_count": 128,
   "metadata": {},
   "outputs": [],
   "source": [
    "from rioniso.model import *\n",
    "from rioniso.importdata import ImportData"
   ]
  },
  {
   "cell_type": "code",
   "execution_count": 18,
   "metadata": {},
   "outputs": [],
   "source": [
    "exp_data_file = '/home/duskdawn/Downloads/72Ge-10-11s-2to21-2nd.npz'\n",
    "simulated_data_file = '/home/duskdawn/analysis/72Ge/segundo-set-2023/72ge-2nd-off-isocurveinfo.ods'"
   ]
  },
  {
   "cell_type": "code",
   "execution_count": 31,
   "metadata": {},
   "outputs": [],
   "source": [
    "imported_data = ImportData(simulated_data_file, exp_data_file, 10)"
   ]
  },
  {
   "cell_type": "code",
   "execution_count": 37,
   "metadata": {},
   "outputs": [
    {
     "data": {
      "text/plain": [
       "array(['242787896.0', '243034987.0', '243051471.0', '243289249.0',\n",
       "       '243363087.0', '243459012.0', '243592265.0', '243760902.0',\n",
       "       '243762443.0', '243769910.0', '242043464.0', '242185266.0',\n",
       "       '242283066.0', '242285300.0', '242355225.0', '242500462.0',\n",
       "       '242595198.0', '242655062.0', '242658251.0', '243097181.0',\n",
       "       '243105253.5', '243109532.5', '243111488.76', '243519180.0',\n",
       "       '243521655.0', '243584870.0', '243587634.0', '243661866.0',\n",
       "       '243758076.0', '243892726.0', '243920211.0', '244030523.0',\n",
       "       '244032491.0', '244183201.0', '244367416.0', '244451027.0',\n",
       "       '244634011.0', '242712480.0', '242899251.0', '242979828.0',\n",
       "       '243159130.0', '243265561.0', '243335898.0', '243485373.0',\n",
       "       '243562476.0', '243916763.0', '243935785.0', '243948979.0',\n",
       "       '243949584.0', '244301175.0', '244379484.0', '244462245.0',\n",
       "       '242818854.0', '242999817.0', '243181008.0', '243185522.0',\n",
       "       '245238819.0', '243435438.0', '245489985.0', '243821322.0',\n",
       "       '243849050.0', '244215705.0', '244312145.0', '244565855.0',\n",
       "       '244756319.0', '243168603.0', '245158306.0', '243547435.0',\n",
       "       '243690848.0', '244170003.0', '242959092.0'], dtype='<U32')"
      ]
     },
     "execution_count": 37,
     "metadata": {},
     "output_type": "execute_result"
    }
   ],
   "source": [
    "imported_data.simulated_data"
   ]
  },
  {
   "cell_type": "code",
   "execution_count": 338,
   "metadata": {},
   "outputs": [],
   "source": [
    "iso_data = calculate_iso_inputs(imported_data.simulated_data, \n",
    "                                imported_data.experimental_data, xspan=6e3)"
   ]
  },
  {
   "cell_type": "code",
   "execution_count": 339,
   "metadata": {},
   "outputs": [],
   "source": [
    "auxX = np.delete([float(freq) for freq in iso_data[:, 1]], [20])\n",
    "auxY = np.delete([float(sigma) for sigma in iso_data[:, 3]], [20])\n",
    "auxYe = np.delete([float(sigmae) for sigmae in iso_data[:, 4]], [20])"
   ]
  },
  {
   "cell_type": "code",
   "execution_count": 340,
   "metadata": {},
   "outputs": [
    {
     "data": {
      "image/png": "[encoded data removed]",
      "text/plain": [
       "<Figure size 432x288 with 1 Axes>"
      ]
     },
     "metadata": {
      "needs_background": "light"
     },
     "output_type": "display_data"
    }
   ],
   "source": [
    "plt.errorbar(auxX[10:30], auxY[10:30], yerr=auxYe[10:30], color = 'black', fmt = 'o')\n",
    "plt.show()"
   ]
  },
  {
   "cell_type": "code",
   "execution_count": 182,
   "metadata": {},
   "outputs": [
    {
     "data": {
      "text/plain": [
       "(array([1.395e+00, 1.000e-03, 1.000e-01]), array([nan, nan, nan]))"
      ]
     },
     "execution_count": 182,
     "metadata": {},
     "output_type": "execute_result"
    }
   ],
   "source": []
  },
  {
   "cell_type": "code",
   "execution_count": 342,
   "metadata": {},
   "outputs": [],
   "source": [
    "def fit_iso_curve_f2(f, sigma, errors = None, seeds = [1.395, 1e-4, 0.1]):#T and sT in ps\n",
    "    try:\n",
    "        if errors is not None:\n",
    "            fit_params, fit_covariance = curve_fit(iso_curve_f2, f, sigma, p0=seeds,\n",
    "                                            sigma=errors, absolute_sigma=True)\n",
    "        else: \n",
    "            fit_params, fit_covariance = curve_fit(iso_curve_f2, f, sigma, p0=seeds)\n",
    "        return fit_params, np.sqrt(np.diag(fit_covariance))\n",
    "\n",
    "    except RuntimeError:\n",
    "        pass\n",
    "\n",
    "def iso_curve_f2(revf, gammat, dp_p, sys, path = 108.36):\n",
    "    return np.sqrt((((1-(path/c*revf)**2-1/(gammat**2))*dp_p*revf)**2+sys**2))"
   ]
  },
  {
   "cell_type": "code",
   "execution_count": 343,
   "metadata": {},
   "outputs": [],
   "source": [
    "fit_params, err = fit_iso_curve_f2(auxX[10:30], auxY[10:30],# errors= auxYe[10:30],\n",
    "                                 seeds= [1.3956, 1e-4, 0.4])"
   ]
  },
  {
   "cell_type": "code",
   "execution_count": 344,
   "metadata": {},
   "outputs": [
    {
     "data": {
      "image/png": "[encoded data removed]",
      "text/plain": [
       "<Figure size 432x288 with 1 Axes>"
      ]
     },
     "metadata": {
      "needs_background": "light"
     },
     "output_type": "display_data"
    }
   ],
   "source": [
    "plt.plot(auxX[10:30], iso_curve_f2(auxX[10:30], *fit_params), 'r-',  linewidth=5)\n",
    "plt.errorbar(auxX[10:30], auxY[10:30], yerr=auxYe[10:30], color = 'black', fmt = 'o')\n",
    "\n",
    "plt.show()"
   ]
  },
  {
   "cell_type": "code",
   "execution_count": 345,
   "metadata": {},
   "outputs": [
    {
     "data": {
      "text/plain": [
       "(array([1.39566887e+00, 1.66372615e-04, 4.69702571e-01]),\n",
       " array([9.23158366e-05, 4.06427362e-06, 4.22409229e-02]))"
      ]
     },
     "execution_count": 345,
     "metadata": {},
     "output_type": "execute_result"
    }
   ],
   "source": [
    "fit_params,err"
   ]
  },
  {
   "cell_type": "code",
   "execution_count": 228,
   "metadata": {},
   "outputs": [
    {
     "data": {
      "text/plain": [
       "299792458.0"
      ]
     },
     "execution_count": 228,
     "metadata": {},
     "output_type": "execute_result"
    }
   ],
   "source": [
    "aaa"
   ]
  },
  {
   "cell_type": "code",
   "execution_count": 320,
   "metadata": {},
   "outputs": [
    {
     "data": {
      "text/plain": [
       "array([0.01403162, 0.02574068, 0.27647539, 0.06080296, 0.0181197 ,\n",
       "       0.00667641, 0.0046588 , 0.02184813, 0.00252325, 0.00767801,\n",
       "       0.        , 0.00482151, 0.0056288 , 0.0474448 , 0.02371398,\n",
       "       0.00866913, 0.01064946, 0.0167301 , 0.01345437, 0.06962595])"
      ]
     },
     "execution_count": 320,
     "metadata": {},
     "output_type": "execute_result"
    }
   ],
   "source": [
    "auxYe[10:30]"
   ]
  },
  {
   "cell_type": "code",
   "execution_count": 335,
   "metadata": {},
   "outputs": [
    {
     "data": {
      "text/plain": [
       "array(['$^{54}$Cr$^{24+}$', '1924539.288716929', '0.0',\n",
       "       '1.4014641254168072', '0.0', '217.93630247471094', '0.0'],\n",
       "      dtype='<U32')"
      ]
     },
     "execution_count": 335,
     "metadata": {},
     "output_type": "execute_result"
    }
   ],
   "source": [
    "iso_data[21]"
   ]
  },
  {
   "cell_type": "code",
   "execution_count": null,
   "metadata": {},
   "outputs": [],
   "source": []
  }
 ],
 "metadata": {
  "kernelspec": {
   "display_name": "Python 3 (ipykernel)",
   "language": "python",
   "name": "python3"
  },
  "language_info": {
   "codemirror_mode": {
    "name": "ipython",
    "version": 3
   },
   "file_extension": ".py",
   "mimetype": "text/x-python",
   "name": "python",
   "nbconvert_exporter": "python",
   "pygments_lexer": "ipython3",
   "version": "3.10.4"
  }
 },
 "nbformat": 4,
 "nbformat_minor": 2
}
